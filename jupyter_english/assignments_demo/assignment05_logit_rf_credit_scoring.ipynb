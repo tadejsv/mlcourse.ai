{
 "cells": [
  {
   "cell_type": "markdown",
   "metadata": {},
   "source": [
    "<center>\n",
    "<img src=\"../../img/ods_stickers.jpg\">\n",
    "    \n",
    "## [mlcourse.ai](https://mlcourse.ai) - Open Machine Learning Course\n",
    "\n",
    "\n",
    "Author: Vitaly Radchenko. All content is distributed under the [Creative Commons CC BY-NC-SA 4.0](https://creativecommons.org/licenses/by-nc-sa/4.0/) license."
   ]
  },
  {
   "cell_type": "markdown",
   "metadata": {},
   "source": [
    "# <center>Assignment # 5 (demo)</center>\n",
    "## <center>Logistic Regression and Random Forest in the credit scoring problem</center> \n",
    "\n",
    "**Same assignment as a [Kaggle Kernel](https://www.kaggle.com/kashnitsky/a5-demo-logit-and-rf-for-credit-scoring) + [solution](https://www.kaggle.com/kashnitsky/a5-demo-logit-and-rf-for-credit-scoring-sol).**"
   ]
  },
  {
   "cell_type": "markdown",
   "metadata": {},
   "source": [
    "In this assignment, you will build models and answer questions using data on credit scoring.\n",
    "\n",
    "Please write your code in the cells with the \"Your code here\" placeholder. Then, answer the questions in the [form](https://docs.google.com/forms/d/1gKt0DA4So8ohKAHZNCk58ezvg7K_tik26d9QND7WC6M/edit).\n",
    "\n",
    "Let's start with a warm-up exercise."
   ]
  },
  {
   "cell_type": "markdown",
   "metadata": {},
   "source": [
    "**Question 1.** There are 5 jurors in a courtroom. Each of them can correctly identify the guilt of the defendant with 70% probability, independent of one another. What is the probability that the jurors will jointly reach the correct verdict if the final decision is by majority vote?\n",
    "\n",
    "1. 70.00%\n",
    "2. 83.20%\n",
    "3. **83.70%**\n",
    "4. 87.50%"
   ]
  },
  {
   "cell_type": "code",
   "execution_count": 1,
   "metadata": {},
   "outputs": [
    {
     "data": {
      "text/plain": [
       "83.69"
      ]
     },
     "execution_count": 1,
     "metadata": {},
     "output_type": "execute_result"
    }
   ],
   "source": [
    "from math import comb\n",
    "\n",
    "prob = comb(5, 3) * 0.7 ** 3 * 0.3 ** 2 + comb(5, 4) * 0.7 ** 4 * 0.3 ** 1 + 0.7 ** 5\n",
    "round(100*prob,2)"
   ]
  },
  {
   "cell_type": "markdown",
   "metadata": {},
   "source": [
    "Great! Let's move on to machine learning.\n",
    "\n",
    "## Credit scoring problem setup\n",
    "\n",
    "#### Problem\n",
    "\n",
    "Predict whether the customer will repay their credit within 90 days. This is a binary classification problem; we will assign customers into good or bad categories based on our prediction.\n",
    "\n",
    "#### Data description\n",
    "\n",
    "| Feature | Variable Type | Value Type | Description |\n",
    "|:--------|:--------------|:-----------|:------------|\n",
    "| age | Input Feature | integer | Customer age |\n",
    "| DebtRatio | Input Feature | real | Total monthly loan payments (loan, alimony, etc.) / Total monthly income percentage |\n",
    "| NumberOfTime30-59DaysPastDueNotWorse | Input Feature | integer | The number of cases when client has overdue 30-59 days (not worse) on other loans during the last 2 years |\n",
    "| NumberOfTimes90DaysLate | Input Feature | integer | Number of cases when customer had 90+dpd overdue on other credits |\n",
    "| NumberOfTime60-89DaysPastDueNotWorse | Input Feature | integer | Number of cased when customer has 60-89dpd (not worse) during the last 2 years |\n",
    "| NumberOfDependents | Input Feature | integer | The number of customer dependents |\n",
    "| SeriousDlqin2yrs | Target Variable | binary: <br>0 or 1 | Customer hasn't paid the loan debt within 90 days |\n"
   ]
  },
  {
   "cell_type": "markdown",
   "metadata": {},
   "source": [
    "Let's set up our environment:"
   ]
  },
  {
   "cell_type": "code",
   "execution_count": 2,
   "metadata": {},
   "outputs": [],
   "source": [
    "# Disable warnings in Anaconda\n",
    "import warnings\n",
    "warnings.filterwarnings('ignore')\n",
    "\n",
    "import numpy as np\n",
    "import pandas as pd\n",
    "%matplotlib inline\n",
    "import matplotlib.pyplot as plt\n",
    "import seaborn as sns\n",
    "sns.set()"
   ]
  },
  {
   "cell_type": "code",
   "execution_count": 3,
   "metadata": {},
   "outputs": [],
   "source": [
    "from matplotlib import rcParams\n",
    "rcParams['figure.figsize'] = 11, 8"
   ]
  },
  {
   "cell_type": "markdown",
   "metadata": {},
   "source": [
    "Let's write the function that will replace *NaN* values with the median for each column."
   ]
  },
  {
   "cell_type": "code",
   "execution_count": 4,
   "metadata": {},
   "outputs": [],
   "source": [
    "def fill_nan(table):\n",
    "    for col in table.columns:\n",
    "        table[col] = table[col].fillna(table[col].median())\n",
    "    return table   "
   ]
  },
  {
   "cell_type": "markdown",
   "metadata": {},
   "source": [
    "Now, read the data:"
   ]
  },
  {
   "cell_type": "code",
   "execution_count": 5,
   "metadata": {},
   "outputs": [
    {
     "data": {
      "text/html": [
       "<div>\n",
       "<style scoped>\n",
       "    .dataframe tbody tr th:only-of-type {\n",
       "        vertical-align: middle;\n",
       "    }\n",
       "\n",
       "    .dataframe tbody tr th {\n",
       "        vertical-align: top;\n",
       "    }\n",
       "\n",
       "    .dataframe thead th {\n",
       "        text-align: right;\n",
       "    }\n",
       "</style>\n",
       "<table border=\"1\" class=\"dataframe\">\n",
       "  <thead>\n",
       "    <tr style=\"text-align: right;\">\n",
       "      <th></th>\n",
       "      <th>SeriousDlqin2yrs</th>\n",
       "      <th>age</th>\n",
       "      <th>NumberOfTime30-59DaysPastDueNotWorse</th>\n",
       "      <th>DebtRatio</th>\n",
       "      <th>NumberOfTimes90DaysLate</th>\n",
       "      <th>NumberOfTime60-89DaysPastDueNotWorse</th>\n",
       "      <th>MonthlyIncome</th>\n",
       "      <th>NumberOfDependents</th>\n",
       "    </tr>\n",
       "  </thead>\n",
       "  <tbody>\n",
       "    <tr>\n",
       "      <th>0</th>\n",
       "      <td>0</td>\n",
       "      <td>64</td>\n",
       "      <td>0</td>\n",
       "      <td>0.249908</td>\n",
       "      <td>0</td>\n",
       "      <td>0</td>\n",
       "      <td>8158.0</td>\n",
       "      <td>0.0</td>\n",
       "    </tr>\n",
       "    <tr>\n",
       "      <th>1</th>\n",
       "      <td>0</td>\n",
       "      <td>58</td>\n",
       "      <td>0</td>\n",
       "      <td>3870.000000</td>\n",
       "      <td>0</td>\n",
       "      <td>0</td>\n",
       "      <td>NaN</td>\n",
       "      <td>0.0</td>\n",
       "    </tr>\n",
       "    <tr>\n",
       "      <th>2</th>\n",
       "      <td>0</td>\n",
       "      <td>41</td>\n",
       "      <td>0</td>\n",
       "      <td>0.456127</td>\n",
       "      <td>0</td>\n",
       "      <td>0</td>\n",
       "      <td>6666.0</td>\n",
       "      <td>0.0</td>\n",
       "    </tr>\n",
       "    <tr>\n",
       "      <th>3</th>\n",
       "      <td>0</td>\n",
       "      <td>43</td>\n",
       "      <td>0</td>\n",
       "      <td>0.000190</td>\n",
       "      <td>0</td>\n",
       "      <td>0</td>\n",
       "      <td>10500.0</td>\n",
       "      <td>2.0</td>\n",
       "    </tr>\n",
       "    <tr>\n",
       "      <th>4</th>\n",
       "      <td>1</td>\n",
       "      <td>49</td>\n",
       "      <td>0</td>\n",
       "      <td>0.271820</td>\n",
       "      <td>0</td>\n",
       "      <td>0</td>\n",
       "      <td>400.0</td>\n",
       "      <td>0.0</td>\n",
       "    </tr>\n",
       "  </tbody>\n",
       "</table>\n",
       "</div>"
      ],
      "text/plain": [
       "   SeriousDlqin2yrs  age  NumberOfTime30-59DaysPastDueNotWorse    DebtRatio  \\\n",
       "0                 0   64                                     0     0.249908   \n",
       "1                 0   58                                     0  3870.000000   \n",
       "2                 0   41                                     0     0.456127   \n",
       "3                 0   43                                     0     0.000190   \n",
       "4                 1   49                                     0     0.271820   \n",
       "\n",
       "   NumberOfTimes90DaysLate  NumberOfTime60-89DaysPastDueNotWorse  \\\n",
       "0                        0                                     0   \n",
       "1                        0                                     0   \n",
       "2                        0                                     0   \n",
       "3                        0                                     0   \n",
       "4                        0                                     0   \n",
       "\n",
       "   MonthlyIncome  NumberOfDependents  \n",
       "0         8158.0                 0.0  \n",
       "1            NaN                 0.0  \n",
       "2         6666.0                 0.0  \n",
       "3        10500.0                 2.0  \n",
       "4          400.0                 0.0  "
      ]
     },
     "execution_count": 5,
     "metadata": {},
     "output_type": "execute_result"
    }
   ],
   "source": [
    "data = pd.read_csv('../../data/credit_scoring_sample.csv', sep =';')\n",
    "data.head()"
   ]
  },
  {
   "cell_type": "markdown",
   "metadata": {},
   "source": [
    "Look at the variable types:"
   ]
  },
  {
   "cell_type": "code",
   "execution_count": 6,
   "metadata": {},
   "outputs": [
    {
     "data": {
      "text/plain": [
       "SeriousDlqin2yrs                          int64\n",
       "age                                       int64\n",
       "NumberOfTime30-59DaysPastDueNotWorse      int64\n",
       "DebtRatio                               float64\n",
       "NumberOfTimes90DaysLate                   int64\n",
       "NumberOfTime60-89DaysPastDueNotWorse      int64\n",
       "MonthlyIncome                           float64\n",
       "NumberOfDependents                      float64\n",
       "dtype: object"
      ]
     },
     "execution_count": 6,
     "metadata": {},
     "output_type": "execute_result"
    }
   ],
   "source": [
    "data.dtypes"
   ]
  },
  {
   "cell_type": "markdown",
   "metadata": {},
   "source": [
    "Check the class balance:"
   ]
  },
  {
   "cell_type": "code",
   "execution_count": 7,
   "metadata": {},
   "outputs": [
    {
     "data": {
      "text/plain": [
       "<matplotlib.axes._subplots.AxesSubplot at 0x7fef5589c460>"
      ]
     },
     "execution_count": 7,
     "metadata": {},
     "output_type": "execute_result"
    },
    {
     "data": {
      "image/png": "[encoded data removed]",
      "text/plain": [
       "<Figure size 792x576 with 1 Axes>"
      ]
     },
     "metadata": {},
     "output_type": "display_data"
    }
   ],
   "source": [
    "sns.countplot(data['SeriousDlqin2yrs'], )"
   ]
  },
  {
   "cell_type": "code",
   "execution_count": 8,
   "metadata": {},
   "outputs": [
    {
     "name": "stdout",
     "output_type": "stream",
     "text": [
      "Distribution of the target:\n"
     ]
    },
    {
     "data": {
      "text/plain": [
       "0    0.777511\n",
       "1    0.222489\n",
       "Name: SeriousDlqin2yrs, dtype: float64"
      ]
     },
     "execution_count": 8,
     "metadata": {},
     "output_type": "execute_result"
    },
    {
     "data": {
      "image/png": "[encoded data removed]",
      "text/plain": [
       "<Figure size 792x576 with 1 Axes>"
      ]
     },
     "metadata": {},
     "output_type": "display_data"
    }
   ],
   "source": [
    "ax = data['SeriousDlqin2yrs'].hist(orientation='horizontal', color='red')\n",
    "ax.set_xlabel(\"number_of_observations\")\n",
    "ax.set_ylabel(\"unique_value\")\n",
    "ax.set_title(\"Target distribution\")\n",
    "\n",
    "print('Distribution of the target:')\n",
    "data['SeriousDlqin2yrs'].value_counts()/data.shape[0]"
   ]
  },
  {
   "cell_type": "markdown",
   "metadata": {},
   "source": [
    "Separate the input variable names by excluding the target:"
   ]
  },
  {
   "cell_type": "code",
   "execution_count": 9,
   "metadata": {},
   "outputs": [
    {
     "data": {
      "text/plain": [
       "['age',\n",
       " 'NumberOfTime30-59DaysPastDueNotWorse',\n",
       " 'DebtRatio',\n",
       " 'NumberOfTimes90DaysLate',\n",
       " 'NumberOfTime60-89DaysPastDueNotWorse',\n",
       " 'MonthlyIncome',\n",
       " 'NumberOfDependents']"
      ]
     },
     "execution_count": 9,
     "metadata": {},
     "output_type": "execute_result"
    }
   ],
   "source": [
    "independent_columns_names = [x for x in data if x != 'SeriousDlqin2yrs']\n",
    "independent_columns_names"
   ]
  },
  {
   "cell_type": "markdown",
   "metadata": {},
   "source": [
    "Apply the function to replace *NaN* values:"
   ]
  },
  {
   "cell_type": "code",
   "execution_count": 10,
   "metadata": {},
   "outputs": [],
   "source": [
    "table = fill_nan(data)"
   ]
  },
  {
   "cell_type": "markdown",
   "metadata": {},
   "source": [
    "Separate the target variable and input features:"
   ]
  },
  {
   "cell_type": "code",
   "execution_count": 11,
   "metadata": {},
   "outputs": [],
   "source": [
    "X = table[independent_columns_names]\n",
    "y = table['SeriousDlqin2yrs']"
   ]
  },
  {
   "cell_type": "markdown",
   "metadata": {},
   "source": [
    "## Bootstrapping"
   ]
  },
  {
   "cell_type": "markdown",
   "metadata": {},
   "source": [
    "**Question 2.** Make an interval estimate of the average age for the customers who delayed repayment at the 90% confidence level. Use the example from the article as reference, if needed. Also, use `np.random.seed(0)` as before. What is the resulting interval estimate?\n",
    "\n",
    "1. 52.59 – 52.86\n",
    "2. 45.71 – 46.13\n",
    "3. **45.68 – 46.17**\n",
    "4. 52.56 – 52.88"
   ]
  },
  {
   "cell_type": "code",
   "execution_count": 12,
   "metadata": {},
   "outputs": [
    {
     "name": "stdout",
     "output_type": "stream",
     "text": [
      "45.70-46.14\n"
     ]
    }
   ],
   "source": [
    "from sklearn.utils import resample\n",
    "\n",
    "ages = table.query('SeriousDlqin2yrs == 1')['age']\n",
    "\n",
    "np.random.seed(0)\n",
    "\n",
    "samples = []\n",
    "for i in range(100):\n",
    "    samples.append(resample(ages).mean())\n",
    "    \n",
    "q10 = np.quantile(samples, 0.05)\n",
    "q90 = np.quantile(samples, 0.95)\n",
    "\n",
    "print(f'{q10:.2f}-{q90:.2f}')"
   ]
  },
  {
   "cell_type": "markdown",
   "metadata": {},
   "source": [
    "## Logistic regression"
   ]
  },
  {
   "cell_type": "markdown",
   "metadata": {},
   "source": [
    "Let's set up to use logistic regression:"
   ]
  },
  {
   "cell_type": "code",
   "execution_count": 13,
   "metadata": {},
   "outputs": [],
   "source": [
    "from sklearn.linear_model import LogisticRegression\n",
    "from sklearn.model_selection import GridSearchCV, StratifiedKFold"
   ]
  },
  {
   "cell_type": "markdown",
   "metadata": {},
   "source": [
    "Now, we will create a `LogisticRegression` model and use `class_weight='balanced'` to make up for our unbalanced classes."
   ]
  },
  {
   "cell_type": "code",
   "execution_count": 14,
   "metadata": {},
   "outputs": [],
   "source": [
    "lr = LogisticRegression(random_state=5, class_weight='balanced')"
   ]
  },
  {
   "cell_type": "markdown",
   "metadata": {},
   "source": [
    "Let's try to find the best regularization coefficient, which is the coefficient `C` for logistic regression. Then, we will have an optimal model that is not overfit and is a good predictor of the target variable."
   ]
  },
  {
   "cell_type": "code",
   "execution_count": 15,
   "metadata": {},
   "outputs": [],
   "source": [
    "parameters = {'C': (0.0001, 0.001, 0.01, 0.1, 1, 10)}"
   ]
  },
  {
   "cell_type": "markdown",
   "metadata": {},
   "source": [
    "In order to find the optimal value of `C`, let's apply stratified 5-fold validation and look at the *ROC AUC* against different values of the parameter `C`. Use the `StratifiedKFold` function for this: "
   ]
  },
  {
   "cell_type": "code",
   "execution_count": 16,
   "metadata": {},
   "outputs": [],
   "source": [
    "skf = StratifiedKFold(n_splits=5, shuffle=True, random_state=5)"
   ]
  },
  {
   "cell_type": "code",
   "execution_count": 17,
   "metadata": {},
   "outputs": [],
   "source": [
    "g_search = GridSearchCV(lr, parameters, cv=skf, scoring='roc_auc')"
   ]
  },
  {
   "cell_type": "markdown",
   "metadata": {},
   "source": [
    "One of the important metrics of model quality is the *Area Under the Curve (AUC)*. *ROC AUC* varies from 0 to 1. The closer ROC AUC is to 1, the better the quality of the classification model."
   ]
  },
  {
   "cell_type": "markdown",
   "metadata": {},
   "source": [
    "**Question 3.** Perform a *Grid Search* with the scoring metric \"roc_auc\" for the parameter `C`. Which value of the parameter `C` is optimal? \n",
    "\n",
    "1. 0.0001\n",
    "2. **0.001**\n",
    "3. 0.01\n",
    "4. 0.1\n",
    "5. 1\n",
    "6. 10"
   ]
  },
  {
   "cell_type": "code",
   "execution_count": 18,
   "metadata": {},
   "outputs": [
    {
     "data": {
      "text/plain": [
       "LogisticRegression(C=0.001, class_weight='balanced', random_state=5)"
      ]
     },
     "execution_count": 18,
     "metadata": {},
     "output_type": "execute_result"
    }
   ],
   "source": [
    "g_search.fit(X, y)\n",
    "best_estimator = g_search.best_estimator_\n",
    "best_estimator"
   ]
  },
  {
   "cell_type": "code",
   "execution_count": 19,
   "metadata": {},
   "outputs": [
    {
     "data": {
      "text/plain": [
       "1"
      ]
     },
     "execution_count": 19,
     "metadata": {},
     "output_type": "execute_result"
    }
   ],
   "source": [
    "g_search.best_index_"
   ]
  },
  {
   "cell_type": "markdown",
   "metadata": {},
   "source": [
    "**Question 4.** Can we consider the best model stable? The model is *stable* if the standard deviation on validation is less than 0.5%. Save the *ROC AUC* value of the best model; it will be useful for the following tasks.\n",
    "\n",
    "1. **Yes**\n",
    "2. No"
   ]
  },
  {
   "cell_type": "code",
   "execution_count": 20,
   "metadata": {},
   "outputs": [
    {
     "data": {
      "text/plain": [
       "0.008137559189742445"
      ]
     },
     "execution_count": 20,
     "metadata": {},
     "output_type": "execute_result"
    }
   ],
   "source": [
    "g_search.cv_results_['std_test_score'][g_search.best_index_]"
   ]
  },
  {
   "cell_type": "code",
   "execution_count": 21,
   "metadata": {},
   "outputs": [
    {
     "data": {
      "text/plain": [
       "0.8089120626797153"
      ]
     },
     "execution_count": 21,
     "metadata": {},
     "output_type": "execute_result"
    }
   ],
   "source": [
    "best_score = g_search.best_score_\n",
    "best_score"
   ]
  },
  {
   "cell_type": "markdown",
   "metadata": {},
   "source": [
    "## Feature importance\n",
    "\n",
    "**Question 5.** *Feature importance* is defined by the absolute value of its corresponding coefficient. First, you need to normalize all of the feature values so that it will be valid to compare them. What is the most important feature for the best logistic regression model?\n",
    "\n",
    "1. age\n",
    "2. NumberOfTime30-59DaysPastDueNotWorse\n",
    "3. DebtRatio\n",
    "4. NumberOfTimes90DaysLate\n",
    "5. NumberOfTime60-89DaysPastDueNotWorse\n",
    "6. MonthlyIncome\n",
    "7. NumberOfDependents"
   ]
  },
  {
   "cell_type": "code",
   "execution_count": 22,
   "metadata": {},
   "outputs": [
    {
     "name": "stdout",
     "output_type": "stream",
     "text": [
      "Requirement already satisfied: eli5 in /opt/conda/lib/python3.8/site-packages (0.10.1)\n",
      "Requirement already satisfied: tabulate>=0.7.7 in /opt/conda/lib/python3.8/site-packages (from eli5) (0.8.7)\n",
      "Requirement already satisfied: jinja2 in /opt/conda/lib/python3.8/site-packages (from eli5) (2.11.2)\n",
      "Requirement already satisfied: numpy>=1.9.0 in /opt/conda/lib/python3.8/site-packages (from eli5) (1.18.5)\n",
      "Requirement already satisfied: graphviz in /opt/conda/lib/python3.8/site-packages (from eli5) (0.14)\n",
      "Requirement already satisfied: scipy in /opt/conda/lib/python3.8/site-packages (from eli5) (1.4.1)\n",
      "Requirement already satisfied: attrs>16.0.0 in /opt/conda/lib/python3.8/site-packages (from eli5) (19.3.0)\n",
      "Requirement already satisfied: six in /opt/conda/lib/python3.8/site-packages (from eli5) (1.15.0)\n",
      "Requirement already satisfied: scikit-learn>=0.18 in /opt/conda/lib/python3.8/site-packages (from eli5) (0.23.1)\n",
      "Requirement already satisfied: MarkupSafe>=0.23 in /opt/conda/lib/python3.8/site-packages (from jinja2->eli5) (1.1.1)\n",
      "Requirement already satisfied: threadpoolctl>=2.0.0 in /opt/conda/lib/python3.8/site-packages (from scikit-learn>=0.18->eli5) (2.1.0)\n",
      "Requirement already satisfied: joblib>=0.11 in /opt/conda/lib/python3.8/site-packages (from scikit-learn>=0.18->eli5) (0.15.1)\n"
     ]
    }
   ],
   "source": [
    "!pip install eli5"
   ]
  },
  {
   "cell_type": "code",
   "execution_count": 23,
   "metadata": {},
   "outputs": [],
   "source": [
    "from eli5 import show_weights\n",
    "from sklearn.pipeline import make_pipeline\n",
    "from sklearn.preprocessing import StandardScaler"
   ]
  },
  {
   "cell_type": "code",
   "execution_count": 24,
   "metadata": {},
   "outputs": [
    {
     "data": {
      "text/html": [
       "\n",
       "    <style>\n",
       "    table.eli5-weights tr:hover {\n",
       "        filter: brightness(85%);\n",
       "    }\n",
       "</style>\n",
       "\n",
       "\n",
       "\n",
       "    \n",
       "\n",
       "    \n",
       "\n",
       "    \n",
       "\n",
       "    \n",
       "\n",
       "    \n",
       "\n",
       "    \n",
       "\n",
       "\n",
       "    \n",
       "\n",
       "    \n",
       "\n",
       "    \n",
       "\n",
       "    \n",
       "        \n",
       "\n",
       "    \n",
       "\n",
       "        \n",
       "            \n",
       "                \n",
       "                \n",
       "    \n",
       "        <p style=\"margin-bottom: 0.5em; margin-top: 0em\">\n",
       "            <b>\n",
       "    \n",
       "        y=1\n",
       "    \n",
       "</b>\n",
       "\n",
       "top features\n",
       "        </p>\n",
       "    \n",
       "    <table class=\"eli5-weights\"\n",
       "           style=\"border-collapse: collapse; border: none; margin-top: 0em; table-layout: auto; margin-bottom: 2em;\">\n",
       "        <thead>\n",
       "        <tr style=\"border: none;\">\n",
       "            \n",
       "                <th style=\"padding: 0 1em 0 0.5em; text-align: right; border: none;\" title=\"Feature weights. Note that weights do not account for feature value scales, so if feature values have different scales, features with highest weights might not be the most important.\">\n",
       "                    Weight<sup>?</sup>\n",
       "                </th>\n",
       "            \n",
       "            <th style=\"padding: 0 0.5em 0 0.5em; text-align: left; border: none;\">Feature</th>\n",
       "            \n",
       "        </tr>\n",
       "        </thead>\n",
       "        <tbody>\n",
       "        \n",
       "            <tr style=\"background-color: hsl(120, 100.00%, 80.00%); border: none;\">\n",
       "    <td style=\"padding: 0 1em 0 0.5em; text-align: right; border: none;\">\n",
       "        +0.723\n",
       "    </td>\n",
       "    <td style=\"padding: 0 0.5em 0 0.5em; text-align: left; border: none;\">\n",
       "        NumberOfTime30-59DaysPastDueNotWorse\n",
       "    </td>\n",
       "    \n",
       "</tr>\n",
       "        \n",
       "            <tr style=\"background-color: hsl(120, 100.00%, 84.20%); border: none;\">\n",
       "    <td style=\"padding: 0 1em 0 0.5em; text-align: right; border: none;\">\n",
       "        +0.517\n",
       "    </td>\n",
       "    <td style=\"padding: 0 0.5em 0 0.5em; text-align: left; border: none;\">\n",
       "        NumberOfTimes90DaysLate\n",
       "    </td>\n",
       "    \n",
       "</tr>\n",
       "        \n",
       "            <tr style=\"background-color: hsl(120, 100.00%, 92.05%); border: none;\">\n",
       "    <td style=\"padding: 0 1em 0 0.5em; text-align: right; border: none;\">\n",
       "        +0.194\n",
       "    </td>\n",
       "    <td style=\"padding: 0 0.5em 0 0.5em; text-align: left; border: none;\">\n",
       "        NumberOfTime60-89DaysPastDueNotWorse\n",
       "    </td>\n",
       "    \n",
       "</tr>\n",
       "        \n",
       "            <tr style=\"background-color: hsl(120, 100.00%, 94.94%); border: none;\">\n",
       "    <td style=\"padding: 0 1em 0 0.5em; text-align: right; border: none;\">\n",
       "        +0.101\n",
       "    </td>\n",
       "    <td style=\"padding: 0 0.5em 0 0.5em; text-align: left; border: none;\">\n",
       "        NumberOfDependents\n",
       "    </td>\n",
       "    \n",
       "</tr>\n",
       "        \n",
       "        \n",
       "\n",
       "        \n",
       "        \n",
       "            <tr style=\"background-color: hsl(0, 100.00%, 98.15%); border: none;\">\n",
       "    <td style=\"padding: 0 1em 0 0.5em; text-align: right; border: none;\">\n",
       "        -0.024\n",
       "    </td>\n",
       "    <td style=\"padding: 0 0.5em 0 0.5em; text-align: left; border: none;\">\n",
       "        DebtRatio\n",
       "    </td>\n",
       "    \n",
       "</tr>\n",
       "        \n",
       "            <tr style=\"background-color: hsl(0, 100.00%, 97.75%); border: none;\">\n",
       "    <td style=\"padding: 0 1em 0 0.5em; text-align: right; border: none;\">\n",
       "        -0.032\n",
       "    </td>\n",
       "    <td style=\"padding: 0 0.5em 0 0.5em; text-align: left; border: none;\">\n",
       "        &lt;BIAS&gt;\n",
       "    </td>\n",
       "    \n",
       "</tr>\n",
       "        \n",
       "            <tr style=\"background-color: hsl(0, 100.00%, 92.95%); border: none;\">\n",
       "    <td style=\"padding: 0 1em 0 0.5em; text-align: right; border: none;\">\n",
       "        -0.163\n",
       "    </td>\n",
       "    <td style=\"padding: 0 0.5em 0 0.5em; text-align: left; border: none;\">\n",
       "        MonthlyIncome\n",
       "    </td>\n",
       "    \n",
       "</tr>\n",
       "        \n",
       "            <tr style=\"background-color: hsl(0, 100.00%, 86.41%); border: none;\">\n",
       "    <td style=\"padding: 0 1em 0 0.5em; text-align: right; border: none;\">\n",
       "        -0.417\n",
       "    </td>\n",
       "    <td style=\"padding: 0 0.5em 0 0.5em; text-align: left; border: none;\">\n",
       "        age\n",
       "    </td>\n",
       "    \n",
       "</tr>\n",
       "        \n",
       "\n",
       "        </tbody>\n",
       "    </table>\n",
       "\n",
       "            \n",
       "        \n",
       "\n",
       "        \n",
       "\n",
       "\n",
       "\n",
       "    \n",
       "\n",
       "    \n",
       "\n",
       "    \n",
       "\n",
       "    \n",
       "\n",
       "\n",
       "    \n",
       "\n",
       "    \n",
       "\n",
       "    \n",
       "\n",
       "    \n",
       "\n",
       "    \n",
       "\n",
       "    \n",
       "\n",
       "\n",
       "    \n",
       "\n",
       "    \n",
       "\n",
       "    \n",
       "\n",
       "    \n",
       "\n",
       "    \n",
       "\n",
       "    \n",
       "\n",
       "\n",
       "\n"
      ],
      "text/plain": [
       "<IPython.core.display.HTML object>"
      ]
     },
     "execution_count": 24,
     "metadata": {},
     "output_type": "execute_result"
    }
   ],
   "source": [
    "scaler = StandardScaler()\n",
    "pipe = make_pipeline(scaler, best_estimator)\n",
    "pipe.fit(X, y)\n",
    "show_weights(pipe, feature_names = list(X.columns))"
   ]
  },
  {
   "cell_type": "markdown",
   "metadata": {},
   "source": [
    "**Question 6.** Calculate how much `DebtRatio` affects our prediction using the [softmax function](https://en.wikipedia.org/wiki/Softmax_function). What is its value?\n",
    "\n",
    "1. 0.38\n",
    "2. **-0.02**\n",
    "3. 0.11\n",
    "4. 0.24"
   ]
  },
  {
   "cell_type": "markdown",
   "metadata": {},
   "source": [
    "**Question 7.** Let's see how we can interpret the impact of our features. For this, recalculate the logistic regression with absolute values, that is without scaling. Next, modify the customer's age by adding 20 years, keeping the other features unchanged. How many times will the chance that the customer will not repay their debt increase? You can find an example of the theoretical calculation [here](https://www.unm.edu/~schrader/biostat/bio2/Spr06/lec11.pdf).\n",
    "\n",
    "1. -0.01\n",
    "2. **0.70**\n",
    "3. 8.32\n",
    "4. 0.66"
   ]
  },
  {
   "cell_type": "code",
   "execution_count": 25,
   "metadata": {},
   "outputs": [
    {
     "data": {
      "text/plain": [
       "array([0.76502314])"
      ]
     },
     "execution_count": 25,
     "metadata": {},
     "output_type": "execute_result"
    }
   ],
   "source": [
    "best_estimator.fit(X, y)\n",
    "np.exp(20*best_estimator.coef_[0][X.columns == 'age'])"
   ]
  },
  {
   "cell_type": "markdown",
   "metadata": {},
   "source": [
    "Also, the phrasing and the interpretation of this question are dumb"
   ]
  },
  {
   "cell_type": "markdown",
   "metadata": {},
   "source": [
    "## Random Forest"
   ]
  },
  {
   "cell_type": "markdown",
   "metadata": {},
   "source": [
    "Import the Random Forest classifier:"
   ]
  },
  {
   "cell_type": "code",
   "execution_count": 36,
   "metadata": {},
   "outputs": [],
   "source": [
    "from sklearn.ensemble import RandomForestClassifier"
   ]
  },
  {
   "cell_type": "markdown",
   "metadata": {},
   "source": [
    "Initialize Random Forest with 100 trees and balance target classes:"
   ]
  },
  {
   "cell_type": "code",
   "execution_count": 37,
   "metadata": {},
   "outputs": [],
   "source": [
    "rf = RandomForestClassifier(n_estimators=100, n_jobs=-1, random_state=42, \n",
    "                            class_weight='balanced')"
   ]
  },
  {
   "cell_type": "markdown",
   "metadata": {},
   "source": [
    "We will search for the best parameters among the following values:"
   ]
  },
  {
   "cell_type": "code",
   "execution_count": 38,
   "metadata": {},
   "outputs": [],
   "source": [
    "parameters = {'max_features': [1, 2, 4], 'min_samples_leaf': [3, 5, 7, 9], 'max_depth': [5,10,15]}"
   ]
  },
  {
   "cell_type": "markdown",
   "metadata": {},
   "source": [
    "Also, we will use the stratified k-fold validation again. You should still have the `skf` variable."
   ]
  },
  {
   "cell_type": "markdown",
   "metadata": {},
   "source": [
    "**Question 8.** How much higher is the *ROC AUC* of the best random forest model than that of the best logistic regression on validation?\n",
    "\n",
    "1. 4%\n",
    "2. **3%**\n",
    "3. 2%\n",
    "4. 1%"
   ]
  },
  {
   "cell_type": "code",
   "execution_count": 39,
   "metadata": {},
   "outputs": [],
   "source": [
    "rf_g_search = GridSearchCV(rf, parameters, cv=skf, scoring='roc_auc')\n",
    "rf_g_search.fit(X, y)\n",
    "best_estimator_rf = rf_g_search.best_estimator_\n",
    "best_estimator_rf"
   ]
  },
  {
   "cell_type": "code",
   "execution_count": 44,
   "metadata": {},
   "outputs": [
    {
     "data": {
      "text/plain": [
       "0.026820670654852385"
      ]
     },
     "execution_count": 44,
     "metadata": {},
     "output_type": "execute_result"
    }
   ],
   "source": [
    "rf_g_search.best_score_ - g_search.best_score_"
   ]
  },
  {
   "cell_type": "code",
   "execution_count": 49,
   "metadata": {},
   "outputs": [
    {
     "data": {
      "text/html": [
       "<div>\n",
       "<style scoped>\n",
       "    .dataframe tbody tr th:only-of-type {\n",
       "        vertical-align: middle;\n",
       "    }\n",
       "\n",
       "    .dataframe tbody tr th {\n",
       "        vertical-align: top;\n",
       "    }\n",
       "\n",
       "    .dataframe thead th {\n",
       "        text-align: right;\n",
       "    }\n",
       "</style>\n",
       "<table border=\"1\" class=\"dataframe\">\n",
       "  <thead>\n",
       "    <tr style=\"text-align: right;\">\n",
       "      <th></th>\n",
       "      <th>0</th>\n",
       "    </tr>\n",
       "  </thead>\n",
       "  <tbody>\n",
       "    <tr>\n",
       "      <th>NumberOfDependents</th>\n",
       "      <td>0.014343</td>\n",
       "    </tr>\n",
       "    <tr>\n",
       "      <th>MonthlyIncome</th>\n",
       "      <td>0.058277</td>\n",
       "    </tr>\n",
       "    <tr>\n",
       "      <th>DebtRatio</th>\n",
       "      <td>0.076118</td>\n",
       "    </tr>\n",
       "    <tr>\n",
       "      <th>age</th>\n",
       "      <td>0.115587</td>\n",
       "    </tr>\n",
       "    <tr>\n",
       "      <th>NumberOfTime60-89DaysPastDueNotWorse</th>\n",
       "      <td>0.156217</td>\n",
       "    </tr>\n",
       "    <tr>\n",
       "      <th>NumberOfTimes90DaysLate</th>\n",
       "      <td>0.278447</td>\n",
       "    </tr>\n",
       "    <tr>\n",
       "      <th>NumberOfTime30-59DaysPastDueNotWorse</th>\n",
       "      <td>0.301011</td>\n",
       "    </tr>\n",
       "  </tbody>\n",
       "</table>\n",
       "</div>"
      ],
      "text/plain": [
       "                                             0\n",
       "NumberOfDependents                    0.014343\n",
       "MonthlyIncome                         0.058277\n",
       "DebtRatio                             0.076118\n",
       "age                                   0.115587\n",
       "NumberOfTime60-89DaysPastDueNotWorse  0.156217\n",
       "NumberOfTimes90DaysLate               0.278447\n",
       "NumberOfTime30-59DaysPastDueNotWorse  0.301011"
      ]
     },
     "execution_count": 49,
     "metadata": {},
     "output_type": "execute_result"
    }
   ],
   "source": [
    "pd.DataFrame(best_estimator_rf.feature_importances_, index=X.columns).sort_values(by=0)"
   ]
  },
  {
   "cell_type": "code",
   "execution_count": 51,
   "metadata": {},
   "outputs": [
    {
     "data": {
      "text/html": [
       "\n",
       "    <style>\n",
       "    table.eli5-weights tr:hover {\n",
       "        filter: brightness(85%);\n",
       "    }\n",
       "</style>\n",
       "\n",
       "\n",
       "\n",
       "    \n",
       "\n",
       "    \n",
       "\n",
       "    \n",
       "\n",
       "    \n",
       "\n",
       "    \n",
       "\n",
       "    \n",
       "\n",
       "\n",
       "    \n",
       "\n",
       "    \n",
       "\n",
       "    \n",
       "\n",
       "    \n",
       "\n",
       "    \n",
       "\n",
       "    \n",
       "\n",
       "\n",
       "    \n",
       "\n",
       "    \n",
       "\n",
       "    \n",
       "\n",
       "    \n",
       "\n",
       "    \n",
       "        <table class=\"eli5-weights eli5-feature-importances\" style=\"border-collapse: collapse; border: none; margin-top: 0em; table-layout: auto;\">\n",
       "    <thead>\n",
       "    <tr style=\"border: none;\">\n",
       "        <th style=\"padding: 0 1em 0 0.5em; text-align: right; border: none;\">Weight</th>\n",
       "        <th style=\"padding: 0 0.5em 0 0.5em; text-align: left; border: none;\">Feature</th>\n",
       "    </tr>\n",
       "    </thead>\n",
       "    <tbody>\n",
       "    \n",
       "        <tr style=\"background-color: hsl(120, 100.00%, 80.00%); border: none;\">\n",
       "            <td style=\"padding: 0 1em 0 0.5em; text-align: right; border: none;\">\n",
       "                0.0790\n",
       "                \n",
       "                    &plusmn; 0.0024\n",
       "                \n",
       "            </td>\n",
       "            <td style=\"padding: 0 0.5em 0 0.5em; text-align: left; border: none;\">\n",
       "                NumberOfTime30-59DaysPastDueNotWorse\n",
       "            </td>\n",
       "        </tr>\n",
       "    \n",
       "        <tr style=\"background-color: hsl(120, 100.00%, 81.91%); border: none;\">\n",
       "            <td style=\"padding: 0 1em 0 0.5em; text-align: right; border: none;\">\n",
       "                0.0685\n",
       "                \n",
       "                    &plusmn; 0.0013\n",
       "                \n",
       "            </td>\n",
       "            <td style=\"padding: 0 0.5em 0 0.5em; text-align: left; border: none;\">\n",
       "                NumberOfTimes90DaysLate\n",
       "            </td>\n",
       "        </tr>\n",
       "    \n",
       "        <tr style=\"background-color: hsl(120, 100.00%, 85.01%); border: none;\">\n",
       "            <td style=\"padding: 0 1em 0 0.5em; text-align: right; border: none;\">\n",
       "                0.0523\n",
       "                \n",
       "                    &plusmn; 0.0017\n",
       "                \n",
       "            </td>\n",
       "            <td style=\"padding: 0 0.5em 0 0.5em; text-align: left; border: none;\">\n",
       "                NumberOfTime60-89DaysPastDueNotWorse\n",
       "            </td>\n",
       "        </tr>\n",
       "    \n",
       "        <tr style=\"background-color: hsl(120, 100.00%, 91.95%); border: none;\">\n",
       "            <td style=\"padding: 0 1em 0 0.5em; text-align: right; border: none;\">\n",
       "                0.0216\n",
       "                \n",
       "                    &plusmn; 0.0015\n",
       "                \n",
       "            </td>\n",
       "            <td style=\"padding: 0 0.5em 0 0.5em; text-align: left; border: none;\">\n",
       "                DebtRatio\n",
       "            </td>\n",
       "        </tr>\n",
       "    \n",
       "        <tr style=\"background-color: hsl(120, 100.00%, 93.61%); border: none;\">\n",
       "            <td style=\"padding: 0 1em 0 0.5em; text-align: right; border: none;\">\n",
       "                0.0155\n",
       "                \n",
       "                    &plusmn; 0.0009\n",
       "                \n",
       "            </td>\n",
       "            <td style=\"padding: 0 0.5em 0 0.5em; text-align: left; border: none;\">\n",
       "                MonthlyIncome\n",
       "            </td>\n",
       "        </tr>\n",
       "    \n",
       "        <tr style=\"background-color: hsl(120, 100.00%, 94.71%); border: none;\">\n",
       "            <td style=\"padding: 0 1em 0 0.5em; text-align: right; border: none;\">\n",
       "                0.0118\n",
       "                \n",
       "                    &plusmn; 0.0020\n",
       "                \n",
       "            </td>\n",
       "            <td style=\"padding: 0 0.5em 0 0.5em; text-align: left; border: none;\">\n",
       "                age\n",
       "            </td>\n",
       "        </tr>\n",
       "    \n",
       "        <tr style=\"background-color: hsl(120, 100.00%, 95.12%); border: none;\">\n",
       "            <td style=\"padding: 0 1em 0 0.5em; text-align: right; border: none;\">\n",
       "                0.0105\n",
       "                \n",
       "                    &plusmn; 0.0012\n",
       "                \n",
       "            </td>\n",
       "            <td style=\"padding: 0 0.5em 0 0.5em; text-align: left; border: none;\">\n",
       "                NumberOfDependents\n",
       "            </td>\n",
       "        </tr>\n",
       "    \n",
       "    \n",
       "    </tbody>\n",
       "</table>\n",
       "    \n",
       "\n",
       "    \n",
       "\n",
       "\n",
       "    \n",
       "\n",
       "    \n",
       "\n",
       "    \n",
       "\n",
       "    \n",
       "\n",
       "    \n",
       "\n",
       "    \n",
       "\n",
       "\n",
       "\n"
      ],
      "text/plain": [
       "<IPython.core.display.HTML object>"
      ]
     },
     "execution_count": 51,
     "metadata": {},
     "output_type": "execute_result"
    }
   ],
   "source": [
    "import eli5\n",
    "from eli5.sklearn import PermutationImportance\n",
    "\n",
    "perm = PermutationImportance(best_estimator_rf).fit(X, y)\n",
    "eli5.show_weights(perm, feature_names = X.columns.tolist())"
   ]
  },
  {
   "cell_type": "markdown",
   "metadata": {},
   "source": [
    "**Question 9.** What feature has the weakest impact in the Random Forest model?\n",
    "\n",
    "1. age\n",
    "2. NumberOfTime30-59DaysPastDueNotWorse\n",
    "3. DebtRatio\n",
    "4. NumberOfTimes90DaysLate\n",
    "5. NumberOfTime60-89DaysPastDueNotWorse\n",
    "6. MonthlyIncome\n",
    "7. **NumberOfDependents**"
   ]
  },
  {
   "cell_type": "markdown",
   "metadata": {},
   "source": [
    "**Question 10.** What is the most significant advantage of using *Logistic Regression* versus *Random Forest* for this problem?\n",
    "\n",
    "1. Spent less time for model fitting;\n",
    "2. Fewer variables to iterate;\n",
    "3. **Feature interpretability;**\n",
    "4. Linear properties of the algorithm."
   ]
  },
  {
   "cell_type": "markdown",
   "metadata": {},
   "source": [
    "## Bagging"
   ]
  },
  {
   "cell_type": "markdown",
   "metadata": {},
   "source": [
    "Import modules and set up the parameters for bagging:"
   ]
  },
  {
   "cell_type": "code",
   "execution_count": 54,
   "metadata": {},
   "outputs": [],
   "source": [
    "from sklearn.ensemble import BaggingClassifier\n",
    "from sklearn.model_selection import cross_val_score, RandomizedSearchCV\n",
    "\n",
    "parameters = {'max_features': [2, 3, 4], 'max_samples': [0.5, 0.7, 0.9], \n",
    "              'base_estimator__C': [0.0001, 0.001, 0.01, 1, 10, 100]}"
   ]
  },
  {
   "cell_type": "markdown",
   "metadata": {},
   "source": [
    "**Question 11.** Fit a bagging classifier with `random_state=42`. For the base classifiers, use 100 logistic regressors and use `RandomizedSearchCV` instead of `GridSearchCV`. It will take a lot of time to iterate over all 54 variants, so set the maximum number of iterations for `RandomizedSearchCV` to 20. Don't forget to set the parameters `cv` and `random_state=1`. What is the best *ROC AUC* you achieve?\n",
    "\n",
    "1. 80.75%\n",
    "2. 80.12%\n",
    "3. 79.62%\n",
    "4. 76.50%\n",
    "5. **To the moon 🚀**"
   ]
  },
  {
   "cell_type": "code",
   "execution_count": 59,
   "metadata": {},
   "outputs": [
    {
     "name": "stdout",
     "output_type": "stream",
     "text": [
      "Fitting 5 folds for each of 20 candidates, totalling 100 fits\n",
      "[CV] max_samples=0.5, max_features=3, base_estimator__C=1 ............\n"
     ]
    },
    {
     "name": "stderr",
     "output_type": "stream",
     "text": [
      "[Parallel(n_jobs=1)]: Using backend SequentialBackend with 1 concurrent workers.\n"
     ]
    },
    {
     "name": "stdout",
     "output_type": "stream",
     "text": [
      "[CV]  max_samples=0.5, max_features=3, base_estimator__C=1, score=0.807, total=   4.7s\n",
      "[CV] max_samples=0.5, max_features=3, base_estimator__C=1 ............\n"
     ]
    },
    {
     "name": "stderr",
     "output_type": "stream",
     "text": [
      "[Parallel(n_jobs=1)]: Done   1 out of   1 | elapsed:    4.7s remaining:    0.0s\n"
     ]
    },
    {
     "name": "stdout",
     "output_type": "stream",
     "text": [
      "[CV]  max_samples=0.5, max_features=3, base_estimator__C=1, score=0.810, total=   3.7s\n",
      "[CV] max_samples=0.5, max_features=3, base_estimator__C=1 ............\n"
     ]
    },
    {
     "name": "stderr",
     "output_type": "stream",
     "text": [
      "[Parallel(n_jobs=1)]: Done   2 out of   2 | elapsed:    8.4s remaining:    0.0s\n"
     ]
    },
    {
     "name": "stdout",
     "output_type": "stream",
     "text": [
      "[CV]  max_samples=0.5, max_features=3, base_estimator__C=1, score=0.808, total=   3.8s\n",
      "[CV] max_samples=0.5, max_features=3, base_estimator__C=1 ............\n"
     ]
    },
    {
     "name": "stderr",
     "output_type": "stream",
     "text": [
      "[Parallel(n_jobs=1)]: Done   3 out of   3 | elapsed:   12.2s remaining:    0.0s\n"
     ]
    },
    {
     "name": "stdout",
     "output_type": "stream",
     "text": [
      "[CV]  max_samples=0.5, max_features=3, base_estimator__C=1, score=0.800, total=   3.7s\n",
      "[CV] max_samples=0.5, max_features=3, base_estimator__C=1 ............\n"
     ]
    },
    {
     "name": "stderr",
     "output_type": "stream",
     "text": [
      "[Parallel(n_jobs=1)]: Done   4 out of   4 | elapsed:   16.0s remaining:    0.0s\n"
     ]
    },
    {
     "name": "stdout",
     "output_type": "stream",
     "text": [
      "[CV]  max_samples=0.5, max_features=3, base_estimator__C=1, score=0.815, total=   4.1s\n",
      "[CV] max_samples=0.9, max_features=2, base_estimator__C=0.0001 .......\n"
     ]
    },
    {
     "name": "stderr",
     "output_type": "stream",
     "text": [
      "[Parallel(n_jobs=1)]: Done   5 out of   5 | elapsed:   20.1s remaining:    0.0s\n"
     ]
    },
    {
     "name": "stdout",
     "output_type": "stream",
     "text": [
      "[CV]  max_samples=0.9, max_features=2, base_estimator__C=0.0001, score=0.773, total=   2.7s\n",
      "[CV] max_samples=0.9, max_features=2, base_estimator__C=0.0001 .......\n"
     ]
    },
    {
     "name": "stderr",
     "output_type": "stream",
     "text": [
      "[Parallel(n_jobs=1)]: Done   6 out of   6 | elapsed:   22.8s remaining:    0.0s\n"
     ]
    },
    {
     "name": "stdout",
     "output_type": "stream",
     "text": [
      "[CV]  max_samples=0.9, max_features=2, base_estimator__C=0.0001, score=0.768, total=   2.7s\n",
      "[CV] max_samples=0.9, max_features=2, base_estimator__C=0.0001 .......\n"
     ]
    },
    {
     "name": "stderr",
     "output_type": "stream",
     "text": [
      "[Parallel(n_jobs=1)]: Done   7 out of   7 | elapsed:   25.5s remaining:    0.0s\n"
     ]
    },
    {
     "name": "stdout",
     "output_type": "stream",
     "text": [
      "[CV]  max_samples=0.9, max_features=2, base_estimator__C=0.0001, score=0.771, total=   2.7s\n",
      "[CV] max_samples=0.9, max_features=2, base_estimator__C=0.0001 .......\n"
     ]
    },
    {
     "name": "stderr",
     "output_type": "stream",
     "text": [
      "[Parallel(n_jobs=1)]: Done   8 out of   8 | elapsed:   28.2s remaining:    0.0s\n"
     ]
    },
    {
     "name": "stdout",
     "output_type": "stream",
     "text": [
      "[CV]  max_samples=0.9, max_features=2, base_estimator__C=0.0001, score=0.759, total=   2.7s\n",
      "[CV] max_samples=0.9, max_features=2, base_estimator__C=0.0001 .......\n"
     ]
    },
    {
     "name": "stderr",
     "output_type": "stream",
     "text": [
      "[Parallel(n_jobs=1)]: Done   9 out of   9 | elapsed:   30.9s remaining:    0.0s\n"
     ]
    },
    {
     "name": "stdout",
     "output_type": "stream",
     "text": [
      "[CV]  max_samples=0.9, max_features=2, base_estimator__C=0.0001, score=0.777, total=   2.7s\n",
      "[CV] max_samples=0.9, max_features=4, base_estimator__C=10 ...........\n",
      "[CV]  max_samples=0.9, max_features=4, base_estimator__C=10, score=0.804, total=   5.8s\n",
      "[CV] max_samples=0.9, max_features=4, base_estimator__C=10 ...........\n",
      "[CV]  max_samples=0.9, max_features=4, base_estimator__C=10, score=0.810, total=   5.8s\n",
      "[CV] max_samples=0.9, max_features=4, base_estimator__C=10 ...........\n",
      "[CV]  max_samples=0.9, max_features=4, base_estimator__C=10, score=0.807, total=   5.3s\n",
      "[CV] max_samples=0.9, max_features=4, base_estimator__C=10 ...........\n",
      "[CV]  max_samples=0.9, max_features=4, base_estimator__C=10, score=0.801, total=   5.3s\n",
      "[CV] max_samples=0.9, max_features=4, base_estimator__C=10 ...........\n",
      "[CV]  max_samples=0.9, max_features=4, base_estimator__C=10, score=0.814, total=   5.1s\n",
      "[CV] max_samples=0.9, max_features=3, base_estimator__C=1 ............\n",
      "[CV]  max_samples=0.9, max_features=3, base_estimator__C=1, score=0.806, total=   4.2s\n",
      "[CV] max_samples=0.9, max_features=3, base_estimator__C=1 ............\n",
      "[CV]  max_samples=0.9, max_features=3, base_estimator__C=1, score=0.811, total=   4.0s\n",
      "[CV] max_samples=0.9, max_features=3, base_estimator__C=1 ............\n",
      "[CV]  max_samples=0.9, max_features=3, base_estimator__C=1, score=0.806, total=   4.1s\n",
      "[CV] max_samples=0.9, max_features=3, base_estimator__C=1 ............\n",
      "[CV]  max_samples=0.9, max_features=3, base_estimator__C=1, score=0.803, total=   4.1s\n",
      "[CV] max_samples=0.9, max_features=3, base_estimator__C=1 ............\n",
      "[CV]  max_samples=0.9, max_features=3, base_estimator__C=1, score=0.814, total=   5.5s\n",
      "[CV] max_samples=0.7, max_features=3, base_estimator__C=1 ............\n",
      "[CV]  max_samples=0.7, max_features=3, base_estimator__C=1, score=0.806, total=   4.5s\n",
      "[CV] max_samples=0.7, max_features=3, base_estimator__C=1 ............\n",
      "[CV]  max_samples=0.7, max_features=3, base_estimator__C=1, score=0.809, total=   4.2s\n",
      "[CV] max_samples=0.7, max_features=3, base_estimator__C=1 ............\n",
      "[CV]  max_samples=0.7, max_features=3, base_estimator__C=1, score=0.806, total=   4.1s\n",
      "[CV] max_samples=0.7, max_features=3, base_estimator__C=1 ............\n",
      "[CV]  max_samples=0.7, max_features=3, base_estimator__C=1, score=0.802, total=   4.5s\n",
      "[CV] max_samples=0.7, max_features=3, base_estimator__C=1 ............\n",
      "[CV]  max_samples=0.7, max_features=3, base_estimator__C=1, score=0.815, total=   4.0s\n",
      "[CV] max_samples=0.9, max_features=2, base_estimator__C=100 ..........\n",
      "[CV]  max_samples=0.9, max_features=2, base_estimator__C=100, score=0.808, total=   2.8s\n",
      "[CV] max_samples=0.9, max_features=2, base_estimator__C=100 ..........\n",
      "[CV]  max_samples=0.9, max_features=2, base_estimator__C=100, score=0.811, total=   2.8s\n",
      "[CV] max_samples=0.9, max_features=2, base_estimator__C=100 ..........\n",
      "[CV]  max_samples=0.9, max_features=2, base_estimator__C=100, score=0.807, total=   2.8s\n",
      "[CV] max_samples=0.9, max_features=2, base_estimator__C=100 ..........\n",
      "[CV]  max_samples=0.9, max_features=2, base_estimator__C=100, score=0.803, total=   2.8s\n",
      "[CV] max_samples=0.9, max_features=2, base_estimator__C=100 ..........\n",
      "[CV]  max_samples=0.9, max_features=2, base_estimator__C=100, score=0.815, total=   2.9s\n",
      "[CV] max_samples=0.7, max_features=4, base_estimator__C=1 ............\n",
      "[CV]  max_samples=0.7, max_features=4, base_estimator__C=1, score=0.804, total=   5.2s\n",
      "[CV] max_samples=0.7, max_features=4, base_estimator__C=1 ............\n",
      "[CV]  max_samples=0.7, max_features=4, base_estimator__C=1, score=0.811, total=   6.1s\n",
      "[CV] max_samples=0.7, max_features=4, base_estimator__C=1 ............\n",
      "[CV]  max_samples=0.7, max_features=4, base_estimator__C=1, score=0.806, total=   5.5s\n",
      "[CV] max_samples=0.7, max_features=4, base_estimator__C=1 ............\n",
      "[CV]  max_samples=0.7, max_features=4, base_estimator__C=1, score=0.801, total=   5.2s\n",
      "[CV] max_samples=0.7, max_features=4, base_estimator__C=1 ............\n",
      "[CV]  max_samples=0.7, max_features=4, base_estimator__C=1, score=0.814, total=   5.8s\n",
      "[CV] max_samples=0.7, max_features=3, base_estimator__C=10 ...........\n",
      "[CV]  max_samples=0.7, max_features=3, base_estimator__C=10, score=0.806, total=   4.3s\n",
      "[CV] max_samples=0.7, max_features=3, base_estimator__C=10 ...........\n",
      "[CV]  max_samples=0.7, max_features=3, base_estimator__C=10, score=0.809, total=   4.4s\n",
      "[CV] max_samples=0.7, max_features=3, base_estimator__C=10 ...........\n",
      "[CV]  max_samples=0.7, max_features=3, base_estimator__C=10, score=0.805, total=   4.4s\n",
      "[CV] max_samples=0.7, max_features=3, base_estimator__C=10 ...........\n",
      "[CV]  max_samples=0.7, max_features=3, base_estimator__C=10, score=0.802, total=   4.1s\n",
      "[CV] max_samples=0.7, max_features=3, base_estimator__C=10 ...........\n",
      "[CV]  max_samples=0.7, max_features=3, base_estimator__C=10, score=0.815, total=   4.3s\n",
      "[CV] max_samples=0.7, max_features=2, base_estimator__C=100 ..........\n",
      "[CV]  max_samples=0.7, max_features=2, base_estimator__C=100, score=0.809, total=   2.8s\n",
      "[CV] max_samples=0.7, max_features=2, base_estimator__C=100 ..........\n",
      "[CV]  max_samples=0.7, max_features=2, base_estimator__C=100, score=0.810, total=   3.2s\n",
      "[CV] max_samples=0.7, max_features=2, base_estimator__C=100 ..........\n",
      "[CV]  max_samples=0.7, max_features=2, base_estimator__C=100, score=0.808, total=   2.8s\n",
      "[CV] max_samples=0.7, max_features=2, base_estimator__C=100 ..........\n",
      "[CV]  max_samples=0.7, max_features=2, base_estimator__C=100, score=0.801, total=   2.8s\n",
      "[CV] max_samples=0.7, max_features=2, base_estimator__C=100 ..........\n",
      "[CV]  max_samples=0.7, max_features=2, base_estimator__C=100, score=0.814, total=   3.0s\n",
      "[CV] max_samples=0.7, max_features=2, base_estimator__C=0.01 .........\n",
      "[CV]  max_samples=0.7, max_features=2, base_estimator__C=0.01, score=0.808, total=   2.7s\n",
      "[CV] max_samples=0.7, max_features=2, base_estimator__C=0.01 .........\n",
      "[CV]  max_samples=0.7, max_features=2, base_estimator__C=0.01, score=0.809, total=   2.9s\n",
      "[CV] max_samples=0.7, max_features=2, base_estimator__C=0.01 .........\n",
      "[CV]  max_samples=0.7, max_features=2, base_estimator__C=0.01, score=0.807, total=   2.8s\n",
      "[CV] max_samples=0.7, max_features=2, base_estimator__C=0.01 .........\n",
      "[CV]  max_samples=0.7, max_features=2, base_estimator__C=0.01, score=0.800, total=   2.9s\n",
      "[CV] max_samples=0.7, max_features=2, base_estimator__C=0.01 .........\n",
      "[CV]  max_samples=0.7, max_features=2, base_estimator__C=0.01, score=0.813, total=   2.8s\n",
      "[CV] max_samples=0.7, max_features=2, base_estimator__C=0.001 ........\n",
      "[CV]  max_samples=0.7, max_features=2, base_estimator__C=0.001, score=0.802, total=   2.7s\n",
      "[CV] max_samples=0.7, max_features=2, base_estimator__C=0.001 ........\n",
      "[CV]  max_samples=0.7, max_features=2, base_estimator__C=0.001, score=0.801, total=   2.9s\n",
      "[CV] max_samples=0.7, max_features=2, base_estimator__C=0.001 ........\n",
      "[CV]  max_samples=0.7, max_features=2, base_estimator__C=0.001, score=0.800, total=   3.0s\n",
      "[CV] max_samples=0.7, max_features=2, base_estimator__C=0.001 ........\n",
      "[CV]  max_samples=0.7, max_features=2, base_estimator__C=0.001, score=0.791, total=   3.0s\n",
      "[CV] max_samples=0.7, max_features=2, base_estimator__C=0.001 ........\n",
      "[CV]  max_samples=0.7, max_features=2, base_estimator__C=0.001, score=0.807, total=   3.3s\n",
      "[CV] max_samples=0.5, max_features=3, base_estimator__C=0.0001 .......\n",
      "[CV]  max_samples=0.5, max_features=3, base_estimator__C=0.0001, score=0.759, total=   4.2s\n",
      "[CV] max_samples=0.5, max_features=3, base_estimator__C=0.0001 .......\n",
      "[CV]  max_samples=0.5, max_features=3, base_estimator__C=0.0001, score=0.752, total=   3.8s\n",
      "[CV] max_samples=0.5, max_features=3, base_estimator__C=0.0001 .......\n",
      "[CV]  max_samples=0.5, max_features=3, base_estimator__C=0.0001, score=0.758, total=   3.8s\n",
      "[CV] max_samples=0.5, max_features=3, base_estimator__C=0.0001 .......\n",
      "[CV]  max_samples=0.5, max_features=3, base_estimator__C=0.0001, score=0.744, total=   3.8s\n",
      "[CV] max_samples=0.5, max_features=3, base_estimator__C=0.0001 .......\n",
      "[CV]  max_samples=0.5, max_features=3, base_estimator__C=0.0001, score=0.758, total=   3.8s\n",
      "[CV] max_samples=0.5, max_features=3, base_estimator__C=0.01 .........\n",
      "[CV]  max_samples=0.5, max_features=3, base_estimator__C=0.01, score=0.806, total=   4.2s\n",
      "[CV] max_samples=0.5, max_features=3, base_estimator__C=0.01 .........\n",
      "[CV]  max_samples=0.5, max_features=3, base_estimator__C=0.01, score=0.807, total=   3.8s\n",
      "[CV] max_samples=0.5, max_features=3, base_estimator__C=0.01 .........\n",
      "[CV]  max_samples=0.5, max_features=3, base_estimator__C=0.01, score=0.807, total=   3.9s\n",
      "[CV] max_samples=0.5, max_features=3, base_estimator__C=0.01 .........\n",
      "[CV]  max_samples=0.5, max_features=3, base_estimator__C=0.01, score=0.800, total=   4.0s\n",
      "[CV] max_samples=0.5, max_features=3, base_estimator__C=0.01 .........\n",
      "[CV]  max_samples=0.5, max_features=3, base_estimator__C=0.01, score=0.813, total=   3.9s\n",
      "[CV] max_samples=0.9, max_features=3, base_estimator__C=100 ..........\n",
      "[CV]  max_samples=0.9, max_features=3, base_estimator__C=100, score=0.806, total=   4.1s\n",
      "[CV] max_samples=0.9, max_features=3, base_estimator__C=100 ..........\n",
      "[CV]  max_samples=0.9, max_features=3, base_estimator__C=100, score=0.810, total=   4.0s\n",
      "[CV] max_samples=0.9, max_features=3, base_estimator__C=100 ..........\n",
      "[CV]  max_samples=0.9, max_features=3, base_estimator__C=100, score=0.805, total=   4.0s\n",
      "[CV] max_samples=0.9, max_features=3, base_estimator__C=100 ..........\n",
      "[CV]  max_samples=0.9, max_features=3, base_estimator__C=100, score=0.803, total=   3.9s\n",
      "[CV] max_samples=0.9, max_features=3, base_estimator__C=100 ..........\n",
      "[CV]  max_samples=0.9, max_features=3, base_estimator__C=100, score=0.814, total=   4.1s\n",
      "[CV] max_samples=0.5, max_features=3, base_estimator__C=10 ...........\n",
      "[CV]  max_samples=0.5, max_features=3, base_estimator__C=10, score=0.807, total=   4.2s\n",
      "[CV] max_samples=0.5, max_features=3, base_estimator__C=10 ...........\n",
      "[CV]  max_samples=0.5, max_features=3, base_estimator__C=10, score=0.810, total=   4.0s\n",
      "[CV] max_samples=0.5, max_features=3, base_estimator__C=10 ...........\n",
      "[CV]  max_samples=0.5, max_features=3, base_estimator__C=10, score=0.808, total=   3.8s\n",
      "[CV] max_samples=0.5, max_features=3, base_estimator__C=10 ...........\n",
      "[CV]  max_samples=0.5, max_features=3, base_estimator__C=10, score=0.800, total=   3.9s\n",
      "[CV] max_samples=0.5, max_features=3, base_estimator__C=10 ...........\n",
      "[CV]  max_samples=0.5, max_features=3, base_estimator__C=10, score=0.815, total=   4.0s\n",
      "[CV] max_samples=0.5, max_features=4, base_estimator__C=10 ...........\n",
      "[CV]  max_samples=0.5, max_features=4, base_estimator__C=10, score=0.804, total=   5.4s\n",
      "[CV] max_samples=0.5, max_features=4, base_estimator__C=10 ...........\n",
      "[CV]  max_samples=0.5, max_features=4, base_estimator__C=10, score=0.810, total=   5.2s\n",
      "[CV] max_samples=0.5, max_features=4, base_estimator__C=10 ...........\n",
      "[CV]  max_samples=0.5, max_features=4, base_estimator__C=10, score=0.807, total=   5.4s\n",
      "[CV] max_samples=0.5, max_features=4, base_estimator__C=10 ...........\n",
      "[CV]  max_samples=0.5, max_features=4, base_estimator__C=10, score=0.802, total=   5.6s\n",
      "[CV] max_samples=0.5, max_features=4, base_estimator__C=10 ...........\n",
      "[CV]  max_samples=0.5, max_features=4, base_estimator__C=10, score=0.814, total=   5.5s\n",
      "[CV] max_samples=0.5, max_features=4, base_estimator__C=0.01 .........\n",
      "[CV]  max_samples=0.5, max_features=4, base_estimator__C=0.01, score=0.803, total=   5.8s\n",
      "[CV] max_samples=0.5, max_features=4, base_estimator__C=0.01 .........\n",
      "[CV]  max_samples=0.5, max_features=4, base_estimator__C=0.01, score=0.809, total=   6.1s\n",
      "[CV] max_samples=0.5, max_features=4, base_estimator__C=0.01 .........\n",
      "[CV]  max_samples=0.5, max_features=4, base_estimator__C=0.01, score=0.806, total=   5.5s\n",
      "[CV] max_samples=0.5, max_features=4, base_estimator__C=0.01 .........\n",
      "[CV]  max_samples=0.5, max_features=4, base_estimator__C=0.01, score=0.800, total=   6.1s\n",
      "[CV] max_samples=0.5, max_features=4, base_estimator__C=0.01 .........\n",
      "[CV]  max_samples=0.5, max_features=4, base_estimator__C=0.01, score=0.812, total=   5.7s\n",
      "[CV] max_samples=0.7, max_features=4, base_estimator__C=100 ..........\n",
      "[CV]  max_samples=0.7, max_features=4, base_estimator__C=100, score=0.803, total=   7.0s\n",
      "[CV] max_samples=0.7, max_features=4, base_estimator__C=100 ..........\n",
      "[CV]  max_samples=0.7, max_features=4, base_estimator__C=100, score=0.812, total=   5.7s\n",
      "[CV] max_samples=0.7, max_features=4, base_estimator__C=100 ..........\n",
      "[CV]  max_samples=0.7, max_features=4, base_estimator__C=100, score=0.806, total=   5.9s\n",
      "[CV] max_samples=0.7, max_features=4, base_estimator__C=100 ..........\n",
      "[CV]  max_samples=0.7, max_features=4, base_estimator__C=100, score=0.801, total=   5.9s\n",
      "[CV] max_samples=0.7, max_features=4, base_estimator__C=100 ..........\n",
      "[CV]  max_samples=0.7, max_features=4, base_estimator__C=100, score=0.813, total=   5.9s\n",
      "[CV] max_samples=0.9, max_features=3, base_estimator__C=10 ...........\n",
      "[CV]  max_samples=0.9, max_features=3, base_estimator__C=10, score=0.806, total=   4.4s\n",
      "[CV] max_samples=0.9, max_features=3, base_estimator__C=10 ...........\n",
      "[CV]  max_samples=0.9, max_features=3, base_estimator__C=10, score=0.810, total=   4.5s\n",
      "[CV] max_samples=0.9, max_features=3, base_estimator__C=10 ...........\n",
      "[CV]  max_samples=0.9, max_features=3, base_estimator__C=10, score=0.805, total=   4.3s\n",
      "[CV] max_samples=0.9, max_features=3, base_estimator__C=10 ...........\n",
      "[CV]  max_samples=0.9, max_features=3, base_estimator__C=10, score=0.803, total=   4.3s\n",
      "[CV] max_samples=0.9, max_features=3, base_estimator__C=10 ...........\n",
      "[CV]  max_samples=0.9, max_features=3, base_estimator__C=10, score=0.814, total=   4.6s\n",
      "[CV] max_samples=0.9, max_features=4, base_estimator__C=1 ............\n",
      "[CV]  max_samples=0.9, max_features=4, base_estimator__C=1, score=0.804, total=   6.0s\n",
      "[CV] max_samples=0.9, max_features=4, base_estimator__C=1 ............\n",
      "[CV]  max_samples=0.9, max_features=4, base_estimator__C=1, score=0.810, total=   6.1s\n",
      "[CV] max_samples=0.9, max_features=4, base_estimator__C=1 ............\n",
      "[CV]  max_samples=0.9, max_features=4, base_estimator__C=1, score=0.807, total=   5.6s\n",
      "[CV] max_samples=0.9, max_features=4, base_estimator__C=1 ............\n",
      "[CV]  max_samples=0.9, max_features=4, base_estimator__C=1, score=0.801, total=   6.7s\n",
      "[CV] max_samples=0.9, max_features=4, base_estimator__C=1 ............\n",
      "[CV]  max_samples=0.9, max_features=4, base_estimator__C=1, score=0.815, total=   5.4s\n"
     ]
    },
    {
     "name": "stderr",
     "output_type": "stream",
     "text": [
      "[Parallel(n_jobs=1)]: Done 100 out of 100 | elapsed:  7.1min finished\n"
     ]
    },
    {
     "data": {
      "text/plain": [
       "RandomizedSearchCV(cv=StratifiedKFold(n_splits=5, random_state=5, shuffle=True),\n",
       "                   estimator=BaggingClassifier(base_estimator=LogisticRegression(class_weight='balanced'),\n",
       "                                               n_estimators=100, n_jobs=-1,\n",
       "                                               random_state=42),\n",
       "                   n_iter=20,\n",
       "                   param_distributions={'base_estimator__C': [0.0001, 0.001,\n",
       "                                                              0.01, 1, 10,\n",
       "                                                              100],\n",
       "                                        'max_features': [2, 3, 4],\n",
       "                                        'max_samples': [0.5, 0.7, 0.9]},\n",
       "                   random_state=1, scoring='roc_auc', verbose=10)"
      ]
     },
     "execution_count": 59,
     "metadata": {},
     "output_type": "execute_result"
    }
   ],
   "source": [
    "estimator = BaggingClassifier(\n",
    "    LogisticRegression(class_weight=\"balanced\"),\n",
    "    n_estimators=100,\n",
    "    random_state=42,\n",
    "    n_jobs=-1,\n",
    ")\n",
    "\n",
    "log_rand_search = RandomizedSearchCV(\n",
    "    estimator,\n",
    "    parameters,\n",
    "    scoring=\"roc_auc\",\n",
    "    n_iter=20,\n",
    "    cv=skf,\n",
    "    random_state=1,\n",
    "    verbose=10,\n",
    ")\n",
    "\n",
    "log_rand_search.fit(X, y)"
   ]
  },
  {
   "cell_type": "code",
   "execution_count": 62,
   "metadata": {},
   "outputs": [
    {
     "data": {
      "text/plain": [
       "0.8087951623513827"
      ]
     },
     "execution_count": 62,
     "metadata": {},
     "output_type": "execute_result"
    }
   ],
   "source": [
    "log_rand_search.best_score_"
   ]
  },
  {
   "cell_type": "code",
   "execution_count": 63,
   "metadata": {},
   "outputs": [
    {
     "data": {
      "text/plain": [
       "BaggingClassifier(base_estimator=LogisticRegression(C=100,\n",
       "                                                    class_weight='balanced'),\n",
       "                  max_features=2, max_samples=0.9, n_estimators=100, n_jobs=-1,\n",
       "                  random_state=42)"
      ]
     },
     "execution_count": 63,
     "metadata": {},
     "output_type": "execute_result"
    }
   ],
   "source": [
    "log_rand_search.best_estimator_"
   ]
  },
  {
   "cell_type": "markdown",
   "metadata": {},
   "source": [
    "**Question 12.** Give an interpretation of the best parameters for bagging. Why are these values of `max_features` and `max_samples` the best?\n",
    "\n",
    "1. For bagging it's important to use as few features as possible;\n",
    "2. Bagging works better on small samples;\n",
    "3. **Less correlation between single models;**\n",
    "4. The higher the number of features, the lower the loss of information."
   ]
  }
 ],
 "metadata": {
  "anaconda-cloud": {},
  "kernelspec": {
   "display_name": "Python 3",
   "language": "python",
   "name": "python3"
  },
  "language_info": {
   "codemirror_mode": {
    "name": "ipython",
    "version": 3
   },
   "file_extension": ".py",
   "mimetype": "text/x-python",
   "name": "python",
   "nbconvert_exporter": "python",
   "pygments_lexer": "ipython3",
   "version": "3.8.3"
  }
 },
 "nbformat": 4,
 "nbformat_minor": 4
}
